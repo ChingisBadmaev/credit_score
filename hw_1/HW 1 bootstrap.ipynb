{
 "cells": [
  {
   "cell_type": "markdown",
   "id": "0acd197a",
   "metadata": {},
   "source": [
    "Вспомним определение **доверительного интервала**: \n",
    "\n",
    "Доверительным интервалом называют пару статистик $\\hat{\\theta_1}, \\hat{\\theta_2}$, таких, что при всех $\\theta$ выполнено равенство:\n",
    "\n",
    "$$\\mathbf{P}_{\\theta}(\\theta \\in (\\hat{\\theta_1}, \\hat{\\theta_2})) = 1 - \\alpha,$$\n",
    "\n",
    "где $1 - \\alpha$ - заданное число, называемое **уровнем доверия**. Можно требовать взамен выполнения неравенства $\\geq$ или сходимости $\\rightarrow$ при $n \\rightarrow \\infty$ (в последнем случае интервал называется асимптотическим)."
   ]
  },
  {
   "cell_type": "markdown",
   "id": "fc7eea7a",
   "metadata": {},
   "source": [
    "## Бутстрэп или как вытаскивать себя из болота за тесемки сапог\n",
    "\n",
    "Построение доверительного интервала фактически связано с вопросом оценки ”типичного” разброса нашей статистики вокруг настоящего параметра. \n",
    "\n",
    "Было бы удобно знать настоящее распределение выборки, тогда мы могли бы сгенерировать множество выборок из него, для каждой из них посчитать статистику и отсюда узнать как часто статистика отклоняется на то или иное расстояние\n",
    "от нашего параметра.\n",
    "\n",
    "К сожалению, распределения мы не знаем, зато можем попробовать оценить его.\n",
    "\n",
    "Итак, две основных идеи таковы:\n",
    "- Если мы знаем функцию распределения какой-то выборки, то с помощью метода Монте-Карло мы\n",
    "можем приближенно найти моменты функций от наших величин, генерируя выборки из нашего\n",
    "распределения.\n",
    "- Если у нас есть \"хорошая оценка\" $\\hat{\\theta}$ неизвестного параметра $\\theta$, а семейство распределений непрерывно, то $F_{\\hat{\\theta}}$ близка к $F_{\\theta}$"
   ]
  },
  {
   "cell_type": "markdown",
   "id": "48005277",
   "metadata": {},
   "source": [
    "Метод бутстрэпа основывается на этих двух идеях. Он называется в честь ремешков на обуви в связи с\n",
    "идиомой, означающей ”вытянуть себя из трясина за ремешки на обуви” (мы в таком случае вспоминаем косичку барона Мюнхгаузена). Этот метод позволяет нам улучшить оценку с помощью самой этой оценки."
   ]
  },
  {
   "cell_type": "markdown",
   "id": "d865e51c",
   "metadata": {},
   "source": [
    "### Бутстрэп для исправления смещения оценок"
   ]
  },
  {
   "cell_type": "markdown",
   "id": "8745b8b6",
   "metadata": {},
   "source": [
    "Сперва отклонимся от построения доверительных интервалов и посмотрим на смещенные оценки."
   ]
  },
  {
   "cell_type": "markdown",
   "id": "0264fc25",
   "metadata": {},
   "source": [
    "Итак, пусть оценка $\\hat{\\theta}$ достаточно близка к $\\theta$, но обладает небольшим смещением:\n",
    "\n",
    "$$a(\\theta) = \\mathbf{E}_{\\theta} \\hat{\\theta}(X_1,...,X_n) - \\theta$$\n",
    "\n",
    "Пусть она на нашей реализации выборки приняла значение $\\hat{\\theta}(x_1,...,x_n)$. Тогда мы можем взять множество выборок $X_{i,1},...,X_{i,n}, i = 1,...,m$ из $F_{\\hat{\\theta}}$ и посчитать по ним:\n",
    "\n",
    "$$\\widetilde{\\theta}(X) = \\frac{1}{m} \\sum_{i=1}^{m} \\hat{\\theta}(X_{i,1},...,X_{i,n})$$\n",
    "\n",
    "Тогда смещение $\\widetilde{\\theta}(X) - \\hat{\\theta}(X_1,...,X_n)$ при больших m близко к $a(\\hat{\\theta})$. В свою очередь мы можем ожидать, что $a(\\hat{\\theta})$ близко к $a(\\theta)$. Таким образом, мы можем взять оценку\n",
    "\n",
    "$$\\hat{\\theta}(x_1,...,x_n) - a(\\hat{\\theta}) = 2\\hat{\\theta}(x_1,...,x_n) - \\widetilde{\\theta}(X)$$\n",
    "\n",
    "и ожидать, что ее смещение значительно меньше чем было. \n",
    "\n",
    "Количество выборок m здесь мы делаем достаточно большим, а размеры выборок должны быть те\n",
    "же n, что и у нас на самом деле."
   ]
  },
  {
   "cell_type": "markdown",
   "id": "e99c8e37",
   "metadata": {},
   "source": [
    "### Бутстрэп для оценки дисперсии"
   ]
  },
  {
   "cell_type": "markdown",
   "id": "99bf5b1a",
   "metadata": {},
   "source": [
    "Использовать метод бутстрэпа можно и нужно не только для оценивания смещения, но и для оценки квадратичного смещения. В качестве оценки дисперсии $\\hat{\\theta}(X_1,...,X_n)$ возьмем:\n",
    "\n",
    "$$\\frac{1}{m}\\sum_{i=1}^{m}\\left(\\hat{\\theta}(X_{i,1},...,X_{i,n}) - \\hat{\\theta}(X_1,...,X_n)\\right)^2$$"
   ]
  },
  {
   "cell_type": "markdown",
   "id": "22442809",
   "metadata": {},
   "source": [
    "Получая оценку для дисперсии, мы можем, например, использовать ее для построения асимптотического доверительного интервала на основе асимптотической нормальности."
   ]
  },
  {
   "cell_type": "markdown",
   "id": "596b0726",
   "metadata": {},
   "source": [
    "### Доверительные интервалы с помощью бутстрэпа"
   ]
  },
  {
   "cell_type": "markdown",
   "id": "5fa4abf9",
   "metadata": {},
   "source": [
    "В качестве оценки для функции распределения используем Эмпирическую Функцию Распределения. \\\n",
    "Это равносильно рассмотрению выборок $X_{i,1},...,X_{i,n}, i=1...M$, взятых из нашей выборки с возвращением.\n",
    "\n",
    "\n",
    "Обсудим несколько методов для постоения дов. интервала. \\\n",
    "Предположим, что $\\hat{\\theta}$ оценка какого-то параметра $\\theta$.\n",
    "\n",
    "- **Percentile**-интервал. Генерируем m выборок из функции распределения $\\hat{F_n}$ (берем m выборок того же размера с возвращением из нашей выборки). Ранжируем значение нашей оценки $\\hat{\\theta^*}$ на этих выборках и в качестве левой границы доверительного интервала берем $[\\alpha m]$-e по возрастанию из значений $\\hat{\\theta^*}$, а в качестве правой границы - $[(1 - \\alpha) m]$-е.\n",
    "\n",
    "\n",
    "- **Pivotal**-интервал. Генерируем m выборок из функции распределения $\\hat{F_n}$. Ранжируем значение нашей оценки $\\hat{\\theta^*}$ на этих выборках. В качестве левой границы доверительного интервала берем $[\\alpha m]$-e по возрастанию из значений $2\\hat{\\theta} - \\hat{\\theta^*}$, а в качестве правой границы - $[(1 - \\alpha) m]$-е.\n",
    "\n",
    "\n",
    "- **Normal**-интервал предлагает брать интервал $(\\hat{\\theta} - z_{1-\\alpha/2}\\hat{\\sigma}, \\hat{\\theta} + z_{1-\\alpha/2}\\hat{\\sigma})$, где $\\hat{\\sigma}$ - бутстрэп-оценка для дисперсии $\\hat{\\theta}$, $z_{1-\\alpha/2}$ - квантиль уровня $1 - \\alpha/2$ распределения $\\mathit{N}(0,1)$. Этот интервал работает только для асимптотически нормальных оценок.\n",
    "\n",
    "\n",
    "\n",
    "\n",
    "**Замечания:** \n",
    "\n",
    "\n",
    "- Percentile интервал опирается на то, что оценка $\\hat{\\theta}$ не имеет смещения и ее распределение достаточно симметрично. Из-за этого этот простой метод оказывается достаточно ненадежным — истинное значение\n",
    "параметра будет вылетать из интервала значительно чаще, чем должно (возможно даже никогда в него не попадать). Использовать этот метод стоит только если вы построили график $\\hat{\\theta^*} - \\hat{\\theta}$ и он оказался симметричным около 0. Pivotal значительно менее придирчив к данным.\n",
    "\n",
    "\n",
    "- Оказывается, что указанные интервалы являются асимптотическими уровня $1 - \\alpha$, если наши оценки асимптотически нормальны."
   ]
  },
  {
   "cell_type": "markdown",
   "id": "e0f9095b",
   "metadata": {},
   "source": [
    "### Задачи"
   ]
  },
  {
   "cell_type": "markdown",
   "id": "ccab9708",
   "metadata": {},
   "source": [
    "1. В файле nissan.txt приведены данные о пробеге автомобиля Ниссан между заправками полного бака. Построить 95% доверительный интервал для среднего бутстрэпом с опцией normal. Сравнить с асимптотическим интервалом на основе нормального распределения.\n",
    "\n",
    "\n",
    "2. В датасете faithful содержится информация о продолжительности извержений гейзеров и промежутках между ними. Построить 95% бутстрэп интервал для корреляции признаков. Зависимы ли они?"
   ]
  },
  {
   "cell_type": "code",
   "execution_count": 1,
   "id": "ff7aa53d",
   "metadata": {},
   "outputs": [],
   "source": [
    "import pandas as pd\n",
    "import numpy as np\n",
    "import matplotlib.pyplot as plt\n",
    "import seaborn as sns\n",
    "import scipy\n",
    "from tqdm import tqdm"
   ]
  },
  {
   "attachments": {},
   "cell_type": "markdown",
   "id": "47ebf4d9",
   "metadata": {},
   "source": [
    "### Задача 1"
   ]
  },
  {
   "cell_type": "code",
   "execution_count": 2,
   "id": "6b1e9423",
   "metadata": {},
   "outputs": [
    {
     "data": {
      "text/html": [
       "<div>\n",
       "<style scoped>\n",
       "    .dataframe tbody tr th:only-of-type {\n",
       "        vertical-align: middle;\n",
       "    }\n",
       "\n",
       "    .dataframe tbody tr th {\n",
       "        vertical-align: top;\n",
       "    }\n",
       "\n",
       "    .dataframe thead th {\n",
       "        text-align: right;\n",
       "    }\n",
       "</style>\n",
       "<table border=\"1\" class=\"dataframe\">\n",
       "  <thead>\n",
       "    <tr style=\"text-align: right;\">\n",
       "      <th></th>\n",
       "      <th>mpg</th>\n",
       "    </tr>\n",
       "  </thead>\n",
       "  <tbody>\n",
       "    <tr>\n",
       "      <th>0</th>\n",
       "      <td>21.964</td>\n",
       "    </tr>\n",
       "    <tr>\n",
       "      <th>1</th>\n",
       "      <td>23.694</td>\n",
       "    </tr>\n",
       "    <tr>\n",
       "      <th>2</th>\n",
       "      <td>18.824</td>\n",
       "    </tr>\n",
       "    <tr>\n",
       "      <th>3</th>\n",
       "      <td>20.851</td>\n",
       "    </tr>\n",
       "    <tr>\n",
       "      <th>4</th>\n",
       "      <td>26.370</td>\n",
       "    </tr>\n",
       "    <tr>\n",
       "      <th>...</th>\n",
       "      <td>...</td>\n",
       "    </tr>\n",
       "    <tr>\n",
       "      <th>95</th>\n",
       "      <td>24.514</td>\n",
       "    </tr>\n",
       "    <tr>\n",
       "      <th>96</th>\n",
       "      <td>24.500</td>\n",
       "    </tr>\n",
       "    <tr>\n",
       "      <th>97</th>\n",
       "      <td>22.344</td>\n",
       "    </tr>\n",
       "    <tr>\n",
       "      <th>98</th>\n",
       "      <td>22.847</td>\n",
       "    </tr>\n",
       "    <tr>\n",
       "      <th>99</th>\n",
       "      <td>19.551</td>\n",
       "    </tr>\n",
       "  </tbody>\n",
       "</table>\n",
       "<p>100 rows × 1 columns</p>\n",
       "</div>"
      ],
      "text/plain": [
       "       mpg\n",
       "0   21.964\n",
       "1   23.694\n",
       "2   18.824\n",
       "3   20.851\n",
       "4   26.370\n",
       "..     ...\n",
       "95  24.514\n",
       "96  24.500\n",
       "97  22.344\n",
       "98  22.847\n",
       "99  19.551\n",
       "\n",
       "[100 rows x 1 columns]"
      ]
     },
     "execution_count": 2,
     "metadata": {},
     "output_type": "execute_result"
    }
   ],
   "source": [
    "data_nissan = pd.read_csv('data/nissan.txt')\n",
    "data_nissan"
   ]
  },
  {
   "cell_type": "code",
   "execution_count": 3,
   "id": "e12016da",
   "metadata": {},
   "outputs": [
    {
     "data": {
      "image/png": "[encoded data removed]",
      "text/plain": [
       "<Figure size 640x480 with 1 Axes>"
      ]
     },
     "metadata": {},
     "output_type": "display_data"
    },
    {
     "data": {
      "text/plain": [
       "<Axes: ylabel='Density'>"
      ]
     },
     "execution_count": 3,
     "metadata": {},
     "output_type": "execute_result"
    },
    {
     "data": {
      "image/png": "[encoded data removed]",
      "text/plain": [
       "<Figure size 640x480 with 1 Axes>"
      ]
     },
     "metadata": {},
     "output_type": "display_data"
    }
   ],
   "source": [
    "plt.hist(data_nissan, histtype='step', cumulative=True, bins=len(data_nissan))\n",
    "plt.show()\n",
    "sns.kdeplot(data_nissan, cumulative=True)"
   ]
  },
  {
   "cell_type": "code",
   "execution_count": 4,
   "id": "ad89f5f6",
   "metadata": {},
   "outputs": [
    {
     "name": "stderr",
     "output_type": "stream",
     "text": [
      "100%|██████████| 100000/100000 [00:19<00:00, 5055.87it/s]\n"
     ]
    }
   ],
   "source": [
    "m = 1 * 10 ** 5\n",
    "mean_nissan = np.zeros(m)\n",
    "for i in tqdm(range(m)):\n",
    "    mean_nissan[i] = np.random.choice(np.asarray(data_nissan.T)[0], size=100).mean()"
   ]
  },
  {
   "cell_type": "code",
   "execution_count": 5,
   "id": "03863a7d",
   "metadata": {},
   "outputs": [
    {
     "name": "stderr",
     "output_type": "stream",
     "text": [
      "/home/chingisbadmaev/Desktop/credit_score/env/lib64/python3.10/site-packages/scipy/stats/_morestats.py:1816: UserWarning: p-value may not be accurate for N > 5000.\n",
      "  warnings.warn(\"p-value may not be accurate for N > 5000.\")\n"
     ]
    },
    {
     "name": "stdout",
     "output_type": "stream",
     "text": [
      "p-value: ShapiroResult(statistic=0.9999780654907227, pvalue=0.8693488836288452)\n",
      "p-value: KstestResult(statistic=1.0, pvalue=0.0, statistic_location=21.29098, statistic_sign=-1)\n",
      "p-value: NormaltestResult(statistic=2.7134117278368732, pvalue=0.2575076465657084)\n"
     ]
    }
   ],
   "source": [
    "print('p-value:', scipy.stats.shapiro(mean_nissan))\n",
    "print('p-value:', scipy.stats.kstest(mean_nissan, 'norm'))\n",
    "print('p-value:', scipy.stats.normaltest(mean_nissan))"
   ]
  },
  {
   "attachments": {},
   "cell_type": "markdown",
   "id": "94018299",
   "metadata": {},
   "source": [
    "Из критерия Шапиро-Уилка и критерия согласия Пирсона гипотеза о нормальности распределения не отвергается. Берется много (10 ^ 5) выборок, чтобы показать, что оценка асимптотически нормальна."
   ]
  },
  {
   "cell_type": "code",
   "execution_count": 6,
   "id": "ae5674bc",
   "metadata": {},
   "outputs": [
    {
     "data": {
      "text/plain": [
       "0.05909463250603701"
      ]
     },
     "execution_count": 6,
     "metadata": {},
     "output_type": "execute_result"
    }
   ],
   "source": [
    "# бутстрэп оценка для дисперсии\n",
    "_mean_nissan_ = np.mean(data_nissan)\n",
    "_sigma_ = np.sum((mean_nissan -  _mean_nissan_) ** 2) / m\n",
    "_sigma_"
   ]
  },
  {
   "cell_type": "code",
   "execution_count": 7,
   "id": "b851423d",
   "metadata": {},
   "outputs": [
    {
     "data": {
      "text/plain": [
       "1.9531300045439532"
      ]
     },
     "execution_count": 7,
     "metadata": {},
     "output_type": "execute_result"
    }
   ],
   "source": [
    "_z_ = np.percentile(np.random.normal(scale=1, loc=0, size=m), 97.5)\n",
    "_z_"
   ]
  },
  {
   "cell_type": "code",
   "execution_count": 8,
   "id": "e6522983",
   "metadata": {},
   "outputs": [
    {
     "name": "stdout",
     "output_type": "stream",
     "text": [
      "Оценка среднего значения: 22.411990000000007\n",
      "Доверительный normal-интервал: [ 22.296570500144966 22.527409499855047 ]\n",
      "Доверительный percentile-интервал: [ 21.936109000000002 22.889871250000006 ]\n"
     ]
    },
    {
     "data": {
      "image/png": "[encoded data removed]",
      "text/plain": [
       "<Figure size 640x480 with 1 Axes>"
      ]
     },
     "metadata": {},
     "output_type": "display_data"
    }
   ],
   "source": [
    "plt.hist(mean_nissan, bins=100)\n",
    "\n",
    "alpha = 5\n",
    "# наша оценка\n",
    "plt.axvline(x=_mean_nissan_, color='y')\n",
    "\n",
    "# Normal-интервал\n",
    "plt.axvline(x=_mean_nissan_ - _z_ * _sigma_, color='r')\n",
    "plt.axvline(x=_mean_nissan_ + _z_ * _sigma_, color='r')\n",
    "\n",
    "# percentile-интервал\n",
    "plt.axvline(x=np.percentile(mean_nissan, alpha / 2), color='b')\n",
    "plt.axvline(x=np.percentile(mean_nissan, 100 - alpha / 2), color='b')\n",
    "\n",
    "print('Оценка среднего значения:', _mean_nissan_)\n",
    "print('Доверительный normal-интервал:', '[', _mean_nissan_ - _z_ * _sigma_, _mean_nissan_ + _z_ * _sigma_, ']')\n",
    "print('Доверительный percentile-интервал:', '[', np.percentile(mean_nissan, alpha / 2), np.percentile(mean_nissan, 100 - alpha / 2), ']')"
   ]
  },
  {
   "attachments": {},
   "cell_type": "markdown",
   "id": "f5fd668b",
   "metadata": {},
   "source": [
    "### Задача 2"
   ]
  },
  {
   "cell_type": "code",
   "execution_count": 9,
   "id": "b60a0985",
   "metadata": {},
   "outputs": [
    {
     "data": {
      "text/html": [
       "<div>\n",
       "<style scoped>\n",
       "    .dataframe tbody tr th:only-of-type {\n",
       "        vertical-align: middle;\n",
       "    }\n",
       "\n",
       "    .dataframe tbody tr th {\n",
       "        vertical-align: top;\n",
       "    }\n",
       "\n",
       "    .dataframe thead th {\n",
       "        text-align: right;\n",
       "    }\n",
       "</style>\n",
       "<table border=\"1\" class=\"dataframe\">\n",
       "  <thead>\n",
       "    <tr style=\"text-align: right;\">\n",
       "      <th></th>\n",
       "      <th>eruptions</th>\n",
       "      <th>waiting</th>\n",
       "    </tr>\n",
       "  </thead>\n",
       "  <tbody>\n",
       "    <tr>\n",
       "      <th>0</th>\n",
       "      <td>3.600</td>\n",
       "      <td>79</td>\n",
       "    </tr>\n",
       "    <tr>\n",
       "      <th>1</th>\n",
       "      <td>1.800</td>\n",
       "      <td>54</td>\n",
       "    </tr>\n",
       "    <tr>\n",
       "      <th>2</th>\n",
       "      <td>3.333</td>\n",
       "      <td>74</td>\n",
       "    </tr>\n",
       "    <tr>\n",
       "      <th>3</th>\n",
       "      <td>2.283</td>\n",
       "      <td>62</td>\n",
       "    </tr>\n",
       "    <tr>\n",
       "      <th>4</th>\n",
       "      <td>4.533</td>\n",
       "      <td>85</td>\n",
       "    </tr>\n",
       "    <tr>\n",
       "      <th>...</th>\n",
       "      <td>...</td>\n",
       "      <td>...</td>\n",
       "    </tr>\n",
       "    <tr>\n",
       "      <th>267</th>\n",
       "      <td>4.117</td>\n",
       "      <td>81</td>\n",
       "    </tr>\n",
       "    <tr>\n",
       "      <th>268</th>\n",
       "      <td>2.150</td>\n",
       "      <td>46</td>\n",
       "    </tr>\n",
       "    <tr>\n",
       "      <th>269</th>\n",
       "      <td>4.417</td>\n",
       "      <td>90</td>\n",
       "    </tr>\n",
       "    <tr>\n",
       "      <th>270</th>\n",
       "      <td>1.817</td>\n",
       "      <td>46</td>\n",
       "    </tr>\n",
       "    <tr>\n",
       "      <th>271</th>\n",
       "      <td>4.467</td>\n",
       "      <td>74</td>\n",
       "    </tr>\n",
       "  </tbody>\n",
       "</table>\n",
       "<p>272 rows × 2 columns</p>\n",
       "</div>"
      ],
      "text/plain": [
       "     eruptions  waiting\n",
       "0        3.600       79\n",
       "1        1.800       54\n",
       "2        3.333       74\n",
       "3        2.283       62\n",
       "4        4.533       85\n",
       "..         ...      ...\n",
       "267      4.117       81\n",
       "268      2.150       46\n",
       "269      4.417       90\n",
       "270      1.817       46\n",
       "271      4.467       74\n",
       "\n",
       "[272 rows x 2 columns]"
      ]
     },
     "execution_count": 9,
     "metadata": {},
     "output_type": "execute_result"
    }
   ],
   "source": [
    "data_faithful = pd.read_csv('data/Faithful.txt', delimiter='\t')\n",
    "data_faithful"
   ]
  },
  {
   "cell_type": "code",
   "execution_count": 10,
   "id": "537409b5",
   "metadata": {},
   "outputs": [
    {
     "name": "stderr",
     "output_type": "stream",
     "text": [
      "100%|██████████| 100000/100000 [00:39<00:00, 2524.51it/s]\n"
     ]
    }
   ],
   "source": [
    "m = 1 * 10 ** 5\n",
    "corr_faithful = np.zeros(m)\n",
    "for i in tqdm(range(m)):\n",
    "    corr_faithful[i] = data_faithful.sample(272, replace=True).corr().iloc[0, 1]"
   ]
  },
  {
   "cell_type": "code",
   "execution_count": 11,
   "id": "6df46b6c",
   "metadata": {},
   "outputs": [
    {
     "name": "stdout",
     "output_type": "stream",
     "text": [
      "p-value: ShapiroResult(statistic=0.996937096118927, pvalue=2.305133731736781e-37)\n",
      "p-value: KstestResult(statistic=0.8071151210458248, pvalue=0.0, statistic_location=0.8697633247551221, statistic_sign=-1)\n",
      "p-value: NormaltestResult(statistic=949.6304733189318, pvalue=6.171103000790168e-207)\n"
     ]
    },
    {
     "name": "stderr",
     "output_type": "stream",
     "text": [
      "/home/chingisbadmaev/Desktop/credit_score/env/lib64/python3.10/site-packages/scipy/stats/_morestats.py:1816: UserWarning: p-value may not be accurate for N > 5000.\n",
      "  warnings.warn(\"p-value may not be accurate for N > 5000.\")\n"
     ]
    }
   ],
   "source": [
    "print('p-value:', scipy.stats.shapiro(corr_faithful))\n",
    "print('p-value:', scipy.stats.kstest(corr_faithful, 'norm'))\n",
    "print('p-value:', scipy.stats.normaltest(corr_faithful))"
   ]
  },
  {
   "cell_type": "code",
   "execution_count": 12,
   "id": "42518759",
   "metadata": {},
   "outputs": [
    {
     "data": {
      "text/plain": [
       "0.9008691759280368"
      ]
     },
     "execution_count": 12,
     "metadata": {},
     "output_type": "execute_result"
    }
   ],
   "source": [
    "_z_ = np.mean(corr_faithful)\n",
    "_z_"
   ]
  },
  {
   "attachments": {},
   "cell_type": "markdown",
   "id": "bdb6a875",
   "metadata": {},
   "source": [
    "Из критерия Шапиро-Уилка и критерия согласия Пирсона гипотеза о нормальности распределения отвергается. Берется много (10 ^ 5) выборок, чтобы показать, что оценка не асимптотически нормальна."
   ]
  },
  {
   "cell_type": "code",
   "execution_count": 13,
   "id": "98ca62fa",
   "metadata": {},
   "outputs": [
    {
     "name": "stdout",
     "output_type": "stream",
     "text": [
      "Оценка среднего значения: 0.9008691759280368\n",
      "Доверительный percentile-интервал: [ 0.8824612501717611 0.917228745810451 ]\n"
     ]
    },
    {
     "data": {
      "image/png": "[encoded data removed]",
      "text/plain": [
       "<Figure size 640x480 with 1 Axes>"
      ]
     },
     "metadata": {},
     "output_type": "display_data"
    }
   ],
   "source": [
    "plt.hist(corr_faithful, bins=100)\n",
    "\n",
    "alpha = 5\n",
    "# наша оценка\n",
    "plt.axvline(_z_, color='y')\n",
    "\n",
    "# percentile-интервал\n",
    "plt.axvline(x=np.percentile(corr_faithful, alpha / 2), color='b')\n",
    "plt.axvline(x=np.percentile(corr_faithful, 100 - alpha / 2), color='b')\n",
    "\n",
    "print('Оценка среднего значения:', _z_)\n",
    "print('Доверительный percentile-интервал:', '[', np.percentile(corr_faithful, alpha / 2), np.percentile(corr_faithful, 100 - alpha / 2), ']')"
   ]
  }
 ],
 "metadata": {
  "kernelspec": {
   "display_name": "Python 3",
   "language": "python",
   "name": "python3"
  },
  "language_info": {
   "codemirror_mode": {
    "name": "ipython",
    "version": 3
   },
   "file_extension": ".py",
   "mimetype": "text/x-python",
   "name": "python",
   "nbconvert_exporter": "python",
   "pygments_lexer": "ipython3",
   "version": "3.10.10"
  },
  "toc": {
   "base_numbering": 1,
   "nav_menu": {},
   "number_sections": true,
   "sideBar": true,
   "skip_h1_title": false,
   "title_cell": "Table of Contents",
   "title_sidebar": "Contents",
   "toc_cell": false,
   "toc_position": {},
   "toc_section_display": true,
   "toc_window_display": false
  }
 },
 "nbformat": 4,
 "nbformat_minor": 5
}
