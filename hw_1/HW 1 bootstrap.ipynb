{
 "cells": [
  {
   "cell_type": "markdown",
   "id": "0acd197a",
   "metadata": {},
   "source": [
    "Вспомним определение **доверительного интервала**: \n",
    "\n",
    "Доверительным интервалом называют пару статистик $\\hat{\\theta_1}, \\hat{\\theta_2}$, таких, что при всех $\\theta$ выполнено равенство:\n",
    "\n",
    "$$\\mathbf{P}_{\\theta}(\\theta \\in (\\hat{\\theta_1}, \\hat{\\theta_2})) = 1 - \\alpha,$$\n",
    "\n",
    "где $1 - \\alpha$ - заданное число, называемое **уровнем доверия**. Можно требовать взамен выполнения неравенства $\\geq$ или сходимости $\\rightarrow$ при $n \\rightarrow \\infty$ (в последнем случае интервал называется асимптотическим)."
   ]
  },
  {
   "cell_type": "markdown",
   "id": "fc7eea7a",
   "metadata": {},
   "source": [
    "## Бутстрэп или как вытаскивать себя из болота за тесемки сапог\n",
    "\n",
    "Построение доверительного интервала фактически связано с вопросом оценки ”типичного” разброса нашей статистики вокруг настоящего параметра. \n",
    "\n",
    "Было бы удобно знать настоящее распределение выборки, тогда мы могли бы сгенерировать множество выборок из него, для каждой из них посчитать статистику и отсюда узнать как часто статистика отклоняется на то или иное расстояние\n",
    "от нашего параметра.\n",
    "\n",
    "К сожалению, распределения мы не знаем, зато можем попробовать оценить его.\n",
    "\n",
    "Итак, две основных идеи таковы:\n",
    "- Если мы знаем функцию распределения какой-то выборки, то с помощью метода Монте-Карло мы\n",
    "можем приближенно найти моменты функций от наших величин, генерируя выборки из нашего\n",
    "распределения.\n",
    "- Если у нас есть \"хорошая оценка\" $\\hat{\\theta}$ неизвестного параметра $\\theta$, а семейство распределений непрерывно, то $F_{\\hat{\\theta}}$ близка к $F_{\\theta}$"
   ]
  },
  {
   "cell_type": "markdown",
   "id": "48005277",
   "metadata": {},
   "source": [
    "Метод бутстрэпа основывается на этих двух идеях. Он называется в честь ремешков на обуви в связи с\n",
    "идиомой, означающей ”вытянуть себя из трясина за ремешки на обуви” (мы в таком случае вспоминаем косичку барона Мюнхгаузена). Этот метод позволяет нам улучшить оценку с помощью самой этой оценки."
   ]
  },
  {
   "cell_type": "markdown",
   "id": "d865e51c",
   "metadata": {},
   "source": [
    "### Бутстрэп для исправления смещения оценок"
   ]
  },
  {
   "cell_type": "markdown",
   "id": "8745b8b6",
   "metadata": {},
   "source": [
    "Сперва отклонимся от построения доверительных интервалов и посмотрим на смещенные оценки."
   ]
  },
  {
   "cell_type": "markdown",
   "id": "0264fc25",
   "metadata": {},
   "source": [
    "Итак, пусть оценка $\\hat{\\theta}$ достаточно близка к $\\theta$, но обладает небольшим смещением:\n",
    "\n",
    "$$a(\\theta) = \\mathbf{E}_{\\theta} \\hat{\\theta}(X_1,...,X_n) - \\theta$$\n",
    "\n",
    "Пусть она на нашей реализации выборки приняла значение $\\hat{\\theta}(x_1,...,x_n)$. Тогда мы можем взять множество выборок $X_{i,1},...,X_{i,n}, i = 1,...,m$ из $F_{\\hat{\\theta}}$ и посчитать по ним:\n",
    "\n",
    "$$\\widetilde{\\theta}(X) = \\frac{1}{m} \\sum_{i=1}^{m} \\hat{\\theta}(X_{i,1},...,X_{i,n})$$\n",
    "\n",
    "Тогда смещение $\\widetilde{\\theta}(X) - \\hat{\\theta}(X_1,...,X_n)$ при больших m близко к $a(\\hat{\\theta})$. В свою очередь мы можем ожидать, что $a(\\hat{\\theta})$ близко к $a(\\theta)$. Таким образом, мы можем взять оценку\n",
    "\n",
    "$$\\hat{\\theta}(x_1,...,x_n) - a(\\hat{\\theta}) = 2\\hat{\\theta}(x_1,...,x_n) - \\widetilde{\\theta}(X)$$\n",
    "\n",
    "и ожидать, что ее смещение значительно меньше чем было. \n",
    "\n",
    "Количество выборок m здесь мы делаем достаточно большим, а размеры выборок должны быть те\n",
    "же n, что и у нас на самом деле."
   ]
  },
  {
   "cell_type": "markdown",
   "id": "e99c8e37",
   "metadata": {},
   "source": [
    "### Бутстрэп для оценки дисперсии"
   ]
  },
  {
   "cell_type": "markdown",
   "id": "99bf5b1a",
   "metadata": {},
   "source": [
    "Использовать метод бутстрэпа можно и нужно не только для оценивания смещения, но и для оценки квадратичного смещения. В качестве оценки дисперсии $\\hat{\\theta}(X_1,...,X_n)$ возьмем:\n",
    "\n",
    "$$\\frac{1}{m}\\sum_{i=1}^{m}\\left(\\hat{\\theta}(X_{i,1},...,X_{i,n}) - \\hat{\\theta}(X_1,...,X_n)\\right)^2$$"
   ]
  },
  {
   "cell_type": "markdown",
   "id": "22442809",
   "metadata": {},
   "source": [
    "Получая оценку для дисперсии, мы можем, например, использовать ее для построения асимптотического доверительного интервала на основе асимптотической нормальности."
   ]
  },
  {
   "cell_type": "markdown",
   "id": "596b0726",
   "metadata": {},
   "source": [
    "### Доверительные интервалы с помощью бутстрэпа"
   ]
  },
  {
   "cell_type": "markdown",
   "id": "5fa4abf9",
   "metadata": {},
   "source": [
    "В качестве оценки для функции распределения используем Эмпирическую Функцию Распределения. \\\n",
    "Это равносильно рассмотрению выборок $X_{i,1},...,X_{i,n}, i=1...M$, взятых из нашей выборки с возвращением.\n",
    "\n",
    "\n",
    "Обсудим несколько методов для постоения дов. интервала. \\\n",
    "Предположим, что $\\hat{\\theta}$ оценка какого-то параметра $\\theta$.\n",
    "\n",
    "- **Percentile**-интервал. Генерируем m выборок из функции распределения $\\hat{F_n}$ (берем m выборок того же размера с возвращением из нашей выборки). Ранжируем значение нашей оценки $\\hat{\\theta^*}$ на этих выборках и в качестве левой границы доверительного интервала берем $[\\alpha m]$-e по возрастанию из значений $\\hat{\\theta^*}$, а в качестве правой границы - $[(1 - \\alpha) m]$-е.\n",
    "\n",
    "\n",
    "- **Pivotal**-интервал. Генерируем m выборок из функции распределения $\\hat{F_n}$. Ранжируем значение нашей оценки $\\hat{\\theta^*}$ на этих выборках. В качестве левой границы доверительного интервала берем $[\\alpha m]$-e по возрастанию из значений $2\\hat{\\theta} - \\hat{\\theta^*}$, а в качестве правой границы - $[(1 - \\alpha) m]$-е.\n",
    "\n",
    "\n",
    "- **Normal**-интервал предлагает брать интервал $(\\hat{\\theta} - z_{1-\\alpha/2}\\hat{\\sigma}, \\hat{\\theta} + z_{1-\\alpha/2}\\hat{\\sigma})$, где $\\hat{\\sigma}$ - бутстрэп-оценка для дисперсии $\\hat{\\theta}$, $z_{1-\\alpha/2}$ - квантиль уровня $1 - \\alpha/2$ распределения $\\mathit{N}(0,1)$. Этот интервал работает только для асимптотически нормальных оценок.\n",
    "\n",
    "\n",
    "\n",
    "\n",
    "**Замечания:** \n",
    "\n",
    "\n",
    "- Percentile интервал опирается на то, что оценка $\\hat{\\theta}$ не имеет смещения и ее распределение достаточно симметрично. Из-за этого этот простой метод оказывается достаточно ненадежным — истинное значение\n",
    "параметра будет вылетать из интервала значительно чаще, чем должно (возможно даже никогда в него не попадать). Использовать этот метод стоит только если вы построили график $\\hat{\\theta^*} - \\hat{\\theta}$ и он оказался симметричным около 0. Pivotal значительно менее придирчив к данным.\n",
    "\n",
    "\n",
    "- Оказывается, что указанные интервалы являются асимптотическими уровня $1 - \\alpha$, если наши оценки асимптотически нормальны."
   ]
  },
  {
   "cell_type": "markdown",
   "id": "e0f9095b",
   "metadata": {},
   "source": [
    "### Задачи"
   ]
  },
  {
   "cell_type": "markdown",
   "id": "ccab9708",
   "metadata": {},
   "source": [
    "1. В файле nissan.txt приведены данные о пробеге автомобиля Ниссан между заправками полного бака. Построить 95% доверительный интервал для среднего бутстрэпом с опцией normal. Сравнить с асимптотическим интервалом на основе нормального распределения.\n",
    "\n",
    "\n",
    "2. В датасете faithful содержится информация о продолжительности извержений гейзеров и промежутках между ними. Построить 95% бутстрэп интервал для корреляции признаков. Зависимы ли они?"
   ]
  },
  {
   "cell_type": "code",
   "execution_count": 1,
   "id": "ff7aa53d",
   "metadata": {},
   "outputs": [],
   "source": [
    "import pandas as pd\n",
    "import numpy as np\n",
    "import matplotlib.pyplot as plt\n",
    "import seaborn as sns\n",
    "import scipy\n",
    "from tqdm import tqdm"
   ]
  },
  {
   "attachments": {},
   "cell_type": "markdown",
   "id": "47ebf4d9",
   "metadata": {},
   "source": [
    "### Задача 1"
   ]
  },
  {
   "cell_type": "code",
   "execution_count": 2,
   "id": "6b1e9423",
   "metadata": {},
   "outputs": [
    {
     "data": {
      "text/html": [
       "<div>\n",
       "<style scoped>\n",
       "    .dataframe tbody tr th:only-of-type {\n",
       "        vertical-align: middle;\n",
       "    }\n",
       "\n",
       "    .dataframe tbody tr th {\n",
       "        vertical-align: top;\n",
       "    }\n",
       "\n",
       "    .dataframe thead th {\n",
       "        text-align: right;\n",
       "    }\n",
       "</style>\n",
       "<table border=\"1\" class=\"dataframe\">\n",
       "  <thead>\n",
       "    <tr style=\"text-align: right;\">\n",
       "      <th></th>\n",
       "      <th>mpg</th>\n",
       "    </tr>\n",
       "  </thead>\n",
       "  <tbody>\n",
       "    <tr>\n",
       "      <th>0</th>\n",
       "      <td>21.964</td>\n",
       "    </tr>\n",
       "    <tr>\n",
       "      <th>1</th>\n",
       "      <td>23.694</td>\n",
       "    </tr>\n",
       "    <tr>\n",
       "      <th>2</th>\n",
       "      <td>18.824</td>\n",
       "    </tr>\n",
       "    <tr>\n",
       "      <th>3</th>\n",
       "      <td>20.851</td>\n",
       "    </tr>\n",
       "    <tr>\n",
       "      <th>4</th>\n",
       "      <td>26.370</td>\n",
       "    </tr>\n",
       "    <tr>\n",
       "      <th>...</th>\n",
       "      <td>...</td>\n",
       "    </tr>\n",
       "    <tr>\n",
       "      <th>95</th>\n",
       "      <td>24.514</td>\n",
       "    </tr>\n",
       "    <tr>\n",
       "      <th>96</th>\n",
       "      <td>24.500</td>\n",
       "    </tr>\n",
       "    <tr>\n",
       "      <th>97</th>\n",
       "      <td>22.344</td>\n",
       "    </tr>\n",
       "    <tr>\n",
       "      <th>98</th>\n",
       "      <td>22.847</td>\n",
       "    </tr>\n",
       "    <tr>\n",
       "      <th>99</th>\n",
       "      <td>19.551</td>\n",
       "    </tr>\n",
       "  </tbody>\n",
       "</table>\n",
       "<p>100 rows × 1 columns</p>\n",
       "</div>"
      ],
      "text/plain": [
       "       mpg\n",
       "0   21.964\n",
       "1   23.694\n",
       "2   18.824\n",
       "3   20.851\n",
       "4   26.370\n",
       "..     ...\n",
       "95  24.514\n",
       "96  24.500\n",
       "97  22.344\n",
       "98  22.847\n",
       "99  19.551\n",
       "\n",
       "[100 rows x 1 columns]"
      ]
     },
     "execution_count": 2,
     "metadata": {},
     "output_type": "execute_result"
    }
   ],
   "source": [
    "data_nissan = pd.read_csv('data/nissan.txt')\n",
    "data_nissan"
   ]
  },
  {
   "cell_type": "code",
   "execution_count": 32,
   "id": "8dcc77ff",
   "metadata": {},
   "outputs": [
    {
     "data": {
      "text/plain": [
       "100"
      ]
     },
     "execution_count": 32,
     "metadata": {},
     "output_type": "execute_result"
    }
   ],
   "source": [
    "n = len(data_nissan)\n",
    "n"
   ]
  },
  {
   "cell_type": "code",
   "execution_count": 3,
   "id": "e12016da",
   "metadata": {},
   "outputs": [
    {
     "data": {
      "image/png": "[encoded data removed]",
      "text/plain": [
       "<Figure size 640x480 with 1 Axes>"
      ]
     },
     "metadata": {},
     "output_type": "display_data"
    },
    {
     "data": {
      "text/plain": [
       "<Axes: ylabel='Density'>"
      ]
     },
     "execution_count": 3,
     "metadata": {},
     "output_type": "execute_result"
    },
    {
     "data": {
      "image/png": "[encoded data removed]",
      "text/plain": [
       "<Figure size 640x480 with 1 Axes>"
      ]
     },
     "metadata": {},
     "output_type": "display_data"
    }
   ],
   "source": [
    "plt.hist(data_nissan, histtype='step', cumulative=True, bins=len(data_nissan))\n",
    "plt.show()\n",
    "sns.kdeplot(data_nissan, cumulative=True)"
   ]
  },
  {
   "cell_type": "code",
   "execution_count": 4,
   "id": "ad89f5f6",
   "metadata": {},
   "outputs": [
    {
     "name": "stderr",
     "output_type": "stream",
     "text": [
      "100%|██████████| 100000/100000 [00:19<00:00, 5018.31it/s]\n"
     ]
    }
   ],
   "source": [
    "m = 1 * 10 ** 5\n",
    "mean_nissan = np.zeros(m)\n",
    "for i in tqdm(range(m)):\n",
    "    mean_nissan[i] = np.random.choice(np.asarray(data_nissan.T)[0], size=100).mean()"
   ]
  },
  {
   "attachments": {},
   "cell_type": "markdown",
   "id": "94018299",
   "metadata": {},
   "source": [
    "Из критерия Шапиро-Уилка и критерия согласия Пирсона гипотеза о нормальности распределения не отвергается. Берется много (10 ^ 5) выборок, чтобы показать, что оценка асимптотически нормальна."
   ]
  },
  {
   "cell_type": "code",
   "execution_count": 5,
   "id": "ae5674bc",
   "metadata": {},
   "outputs": [
    {
     "data": {
      "text/plain": [
       "0.05973606141292201"
      ]
     },
     "execution_count": 5,
     "metadata": {},
     "output_type": "execute_result"
    }
   ],
   "source": [
    "# бутстрэп оценка для дисперсии\n",
    "_mean_nissan_ = np.mean(data_nissan)\n",
    "_sigma_ = np.sum((mean_nissan -  _mean_nissan_) ** 2) / m\n",
    "_sigma_"
   ]
  },
  {
   "cell_type": "code",
   "execution_count": 6,
   "id": "b851423d",
   "metadata": {},
   "outputs": [
    {
     "data": {
      "text/plain": [
       "1.9637604744602035"
      ]
     },
     "execution_count": 6,
     "metadata": {},
     "output_type": "execute_result"
    }
   ],
   "source": [
    "_z_ = np.percentile(np.random.normal(scale=1, loc=0, size=m), 97.5)\n",
    "_z_"
   ]
  },
  {
   "cell_type": "code",
   "execution_count": 7,
   "id": "dd4fa8cf",
   "metadata": {},
   "outputs": [
    {
     "data": {
      "text/plain": [
       "(array([1.000e+00, 0.000e+00, 1.000e+00, 0.000e+00, 0.000e+00, 2.000e+00,\n",
       "        4.000e+00, 1.000e+00, 2.000e+00, 1.000e+00, 6.000e+00, 1.700e+01,\n",
       "        1.000e+01, 1.900e+01, 1.900e+01, 3.000e+01, 3.100e+01, 5.000e+01,\n",
       "        7.100e+01, 8.100e+01, 1.020e+02, 1.610e+02, 1.650e+02, 2.300e+02,\n",
       "        2.710e+02, 3.050e+02, 4.000e+02, 4.730e+02, 5.700e+02, 6.360e+02,\n",
       "        7.640e+02, 8.940e+02, 1.047e+03, 1.232e+03, 1.322e+03, 1.548e+03,\n",
       "        1.749e+03, 1.886e+03, 2.120e+03, 2.317e+03, 2.470e+03, 2.672e+03,\n",
       "        2.766e+03, 2.996e+03, 3.172e+03, 3.317e+03, 3.300e+03, 3.551e+03,\n",
       "        3.432e+03, 3.481e+03, 3.526e+03, 3.492e+03, 3.484e+03, 3.423e+03,\n",
       "        3.369e+03, 3.214e+03, 2.990e+03, 2.838e+03, 2.682e+03, 2.582e+03,\n",
       "        2.271e+03, 2.086e+03, 1.961e+03, 1.719e+03, 1.591e+03, 1.361e+03,\n",
       "        1.206e+03, 1.079e+03, 9.040e+02, 8.010e+02, 6.600e+02, 5.690e+02,\n",
       "        5.260e+02, 4.200e+02, 3.260e+02, 2.450e+02, 2.360e+02, 1.590e+02,\n",
       "        1.140e+02, 1.160e+02, 8.600e+01, 8.100e+01, 4.200e+01, 4.700e+01,\n",
       "        2.700e+01, 1.500e+01, 1.800e+01, 9.000e+00, 9.000e+00, 5.000e+00,\n",
       "        4.000e+00, 4.000e+00, 0.000e+00, 3.000e+00, 1.000e+00, 2.000e+00,\n",
       "        1.000e+00, 0.000e+00, 0.000e+00, 1.000e+00]),\n",
       " array([-4.47363737, -4.38425545, -4.29487353, -4.20549162, -4.1161097 ,\n",
       "        -4.02672778, -3.93734587, -3.84796395, -3.75858204, -3.66920012,\n",
       "        -3.5798182 , -3.49043629, -3.40105437, -3.31167246, -3.22229054,\n",
       "        -3.13290862, -3.04352671, -2.95414479, -2.86476287, -2.77538096,\n",
       "        -2.68599904, -2.59661713, -2.50723521, -2.41785329, -2.32847138,\n",
       "        -2.23908946, -2.14970754, -2.06032563, -1.97094371, -1.8815618 ,\n",
       "        -1.79217988, -1.70279796, -1.61341605, -1.52403413, -1.43465222,\n",
       "        -1.3452703 , -1.25588838, -1.16650647, -1.07712455, -0.98774263,\n",
       "        -0.89836072, -0.8089788 , -0.71959689, -0.63021497, -0.54083305,\n",
       "        -0.45145114, -0.36206922, -0.2726873 , -0.18330539, -0.09392347,\n",
       "        -0.00454156,  0.08484036,  0.17422228,  0.26360419,  0.35298611,\n",
       "         0.44236802,  0.53174994,  0.62113186,  0.71051377,  0.79989569,\n",
       "         0.88927761,  0.97865952,  1.06804144,  1.15742335,  1.24680527,\n",
       "         1.33618719,  1.4255691 ,  1.51495102,  1.60433294,  1.69371485,\n",
       "         1.78309677,  1.87247868,  1.9618606 ,  2.05124252,  2.14062443,\n",
       "         2.23000635,  2.31938826,  2.40877018,  2.4981521 ,  2.58753401,\n",
       "         2.67691593,  2.76629785,  2.85567976,  2.94506168,  3.03444359,\n",
       "         3.12382551,  3.21320743,  3.30258934,  3.39197126,  3.48135318,\n",
       "         3.57073509,  3.66011701,  3.74949892,  3.83888084,  3.92826276,\n",
       "         4.01764467,  4.10702659,  4.1964085 ,  4.28579042,  4.37517234,\n",
       "         4.46455425]),\n",
       " <BarContainer object of 100 artists>)"
      ]
     },
     "execution_count": 7,
     "metadata": {},
     "output_type": "execute_result"
    },
    {
     "data": {
      "image/png": "[encoded data removed]",
      "text/plain": [
       "<Figure size 640x480 with 1 Axes>"
      ]
     },
     "metadata": {},
     "output_type": "display_data"
    }
   ],
   "source": [
    "# проверка на асимптотическую нормальность. Видно, что распределение ~ N(0, 1)\n",
    "plt.hist((mean_nissan -  _mean_nissan_) / np.sqrt(_sigma_), bins=100)"
   ]
  },
  {
   "cell_type": "code",
   "execution_count": 76,
   "id": "e6522983",
   "metadata": {},
   "outputs": [
    {
     "name": "stdout",
     "output_type": "stream",
     "text": [
      "Оценка среднего значения: 22.411990000000007\n",
      "Доверительный normal-интервал: [ 22.358179088727688 22.465800911272325 ]\n",
      "Доверительный percentile-интервал: [ 21.93248925 22.891191250000002 ]\n"
     ]
    },
    {
     "data": {
      "image/png": "[encoded data removed]",
      "text/plain": [
       "<Figure size 640x480 with 1 Axes>"
      ]
     },
     "metadata": {},
     "output_type": "display_data"
    }
   ],
   "source": [
    "plt.hist(mean_nissan, bins=100)\n",
    "\n",
    "alpha = 5\n",
    "# наша оценка\n",
    "plt.axvline(x=_mean_nissan_, color='y')\n",
    "\n",
    "# Normal-интервал\n",
    "plt.axvline(x=_mean_nissan_ - _z_ * _sigma_, color='r')\n",
    "plt.axvline(x=_mean_nissan_ + _z_ * _sigma_, color='r')\n",
    "\n",
    "# percentile-интервал\n",
    "plt.axvline(x=_mean_nissan_ + np.sqrt(_sigma_ / n) * scipy.stats.t.ppf((alpha / 2) / 100, df=n - 1, loc=0, scale=1), color='r')\n",
    "plt.axvline(x=_mean_nissan_ + np.sqrt(_sigma_ / n) * scipy.stats.t.ppf((1 - alpha / 2) / 100, df=n - 1, loc=0, scale=1), color='r')\n",
    "\n",
    "\n",
    "print('Оценка среднего значения:', _mean_nissan_)\n",
    "print('Доверительный normal-интервал:', '[', _mean_nissan_ - _z_ * _sigma_, _mean_nissan_ + _z_ * _sigma_, ']')\n",
    "print('Доверительный percentile-интервал:', '[', np.percentile(mean_nissan, alpha / 2), np.percentile(mean_nissan, 100 - alpha / 2), ']')"
   ]
  },
  {
   "attachments": {},
   "cell_type": "markdown",
   "id": "f5fd668b",
   "metadata": {},
   "source": [
    "### Задача 2"
   ]
  },
  {
   "cell_type": "code",
   "execution_count": 9,
   "id": "b60a0985",
   "metadata": {},
   "outputs": [
    {
     "data": {
      "text/html": [
       "<div>\n",
       "<style scoped>\n",
       "    .dataframe tbody tr th:only-of-type {\n",
       "        vertical-align: middle;\n",
       "    }\n",
       "\n",
       "    .dataframe tbody tr th {\n",
       "        vertical-align: top;\n",
       "    }\n",
       "\n",
       "    .dataframe thead th {\n",
       "        text-align: right;\n",
       "    }\n",
       "</style>\n",
       "<table border=\"1\" class=\"dataframe\">\n",
       "  <thead>\n",
       "    <tr style=\"text-align: right;\">\n",
       "      <th></th>\n",
       "      <th>eruptions</th>\n",
       "      <th>waiting</th>\n",
       "    </tr>\n",
       "  </thead>\n",
       "  <tbody>\n",
       "    <tr>\n",
       "      <th>0</th>\n",
       "      <td>3.600</td>\n",
       "      <td>79</td>\n",
       "    </tr>\n",
       "    <tr>\n",
       "      <th>1</th>\n",
       "      <td>1.800</td>\n",
       "      <td>54</td>\n",
       "    </tr>\n",
       "    <tr>\n",
       "      <th>2</th>\n",
       "      <td>3.333</td>\n",
       "      <td>74</td>\n",
       "    </tr>\n",
       "    <tr>\n",
       "      <th>3</th>\n",
       "      <td>2.283</td>\n",
       "      <td>62</td>\n",
       "    </tr>\n",
       "    <tr>\n",
       "      <th>4</th>\n",
       "      <td>4.533</td>\n",
       "      <td>85</td>\n",
       "    </tr>\n",
       "    <tr>\n",
       "      <th>...</th>\n",
       "      <td>...</td>\n",
       "      <td>...</td>\n",
       "    </tr>\n",
       "    <tr>\n",
       "      <th>267</th>\n",
       "      <td>4.117</td>\n",
       "      <td>81</td>\n",
       "    </tr>\n",
       "    <tr>\n",
       "      <th>268</th>\n",
       "      <td>2.150</td>\n",
       "      <td>46</td>\n",
       "    </tr>\n",
       "    <tr>\n",
       "      <th>269</th>\n",
       "      <td>4.417</td>\n",
       "      <td>90</td>\n",
       "    </tr>\n",
       "    <tr>\n",
       "      <th>270</th>\n",
       "      <td>1.817</td>\n",
       "      <td>46</td>\n",
       "    </tr>\n",
       "    <tr>\n",
       "      <th>271</th>\n",
       "      <td>4.467</td>\n",
       "      <td>74</td>\n",
       "    </tr>\n",
       "  </tbody>\n",
       "</table>\n",
       "<p>272 rows × 2 columns</p>\n",
       "</div>"
      ],
      "text/plain": [
       "     eruptions  waiting\n",
       "0        3.600       79\n",
       "1        1.800       54\n",
       "2        3.333       74\n",
       "3        2.283       62\n",
       "4        4.533       85\n",
       "..         ...      ...\n",
       "267      4.117       81\n",
       "268      2.150       46\n",
       "269      4.417       90\n",
       "270      1.817       46\n",
       "271      4.467       74\n",
       "\n",
       "[272 rows x 2 columns]"
      ]
     },
     "execution_count": 9,
     "metadata": {},
     "output_type": "execute_result"
    }
   ],
   "source": [
    "data_faithful = pd.read_csv('data/Faithful.txt', delimiter='\t')\n",
    "data_faithful"
   ]
  },
  {
   "cell_type": "code",
   "execution_count": 10,
   "id": "537409b5",
   "metadata": {},
   "outputs": [
    {
     "name": "stderr",
     "output_type": "stream",
     "text": [
      "100%|██████████| 100000/100000 [00:40<00:00, 2476.69it/s]\n"
     ]
    }
   ],
   "source": [
    "m = 1 * 10 ** 5\n",
    "corr_faithful = np.zeros(m)\n",
    "for i in tqdm(range(m)):\n",
    "    corr_faithful[i] = data_faithful.sample(272, replace=True).corr().iloc[0, 1]"
   ]
  },
  {
   "cell_type": "code",
   "execution_count": 11,
   "id": "42518759",
   "metadata": {},
   "outputs": [
    {
     "data": {
      "text/plain": [
       "0.9008111683218132"
      ]
     },
     "execution_count": 11,
     "metadata": {},
     "output_type": "execute_result"
    }
   ],
   "source": [
    "_z_ = data_faithful.corr().iloc[0, 1]\n",
    "_z_"
   ]
  },
  {
   "attachments": {},
   "cell_type": "markdown",
   "id": "bdb6a875",
   "metadata": {},
   "source": [
    "Из критерия Шапиро-Уилка и критерия согласия Пирсона гипотеза о нормальности распределения отвергается. Берется много (10 ^ 5) выборок, чтобы показать, что оценка не асимптотически нормальна."
   ]
  },
  {
   "cell_type": "code",
   "execution_count": 12,
   "id": "98ca62fa",
   "metadata": {},
   "outputs": [
    {
     "name": "stdout",
     "output_type": "stream",
     "text": [
      "Оценка среднего значения: 0.9008111683218132\n",
      "Доверительный percentile-интервал: [ 0.8825397538692564 0.917207906072068 ]\n"
     ]
    },
    {
     "data": {
      "image/png": "[encoded data removed]",
      "text/plain": [
       "<Figure size 640x480 with 1 Axes>"
      ]
     },
     "metadata": {},
     "output_type": "display_data"
    }
   ],
   "source": [
    "plt.hist(corr_faithful, bins=100)\n",
    "\n",
    "alpha = 5\n",
    "# наша оценка\n",
    "plt.axvline(_z_, color='y')\n",
    "\n",
    "# percentile-интервал\n",
    "plt.axvline(x=np.percentile(corr_faithful, alpha / 2), color='b')\n",
    "plt.axvline(x=np.percentile(corr_faithful, 100 - alpha / 2), color='b')\n",
    "\n",
    "# pivotal-интервал\n",
    "plt.axvline(x=np.percentile(2 * _z_ - corr_faithful, alpha / 2), color='r')\n",
    "plt.axvline(x=np.percentile(2 * _z_ - corr_faithful, 100 - alpha / 2), color='r')\n",
    "\n",
    "print('Оценка среднего значения:', _z_)\n",
    "print('Доверительный percentile-интервал:', '[', np.percentile(corr_faithful, alpha / 2), np.percentile(corr_faithful, 100 - alpha / 2), ']')"
   ]
  }
 ],
 "metadata": {
  "kernelspec": {
   "display_name": "Python 3",
   "language": "python",
   "name": "python3"
  },
  "language_info": {
   "codemirror_mode": {
    "name": "ipython",
    "version": 3
   },
   "file_extension": ".py",
   "mimetype": "text/x-python",
   "name": "python",
   "nbconvert_exporter": "python",
   "pygments_lexer": "ipython3",
   "version": "3.10.10"
  },
  "toc": {
   "base_numbering": 1,
   "nav_menu": {},
   "number_sections": true,
   "sideBar": true,
   "skip_h1_title": false,
   "title_cell": "Table of Contents",
   "title_sidebar": "Contents",
   "toc_cell": false,
   "toc_position": {},
   "toc_section_display": true,
   "toc_window_display": false
  }
 },
 "nbformat": 4,
 "nbformat_minor": 5
}
